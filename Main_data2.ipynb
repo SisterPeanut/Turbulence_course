{
 "cells": [
  {
   "cell_type": "code",
   "execution_count": 30,
   "id": "93d838b1",
   "metadata": {},
   "outputs": [],
   "source": [
    "#The main file for case 2\n",
    "\n",
    "import numpy as np\n",
    "import pandas as pd\n",
    "import matplotlib.pyplot as plt\n",
    "from scipy.optimize import curve_fit\n",
    "\n",
    "# Path to your file\n",
    "file_Moa = \"/Users/moasjoberg/Documents/Turbulence_cource/Turbulence_course/FALL2_2.TXT\"\n",
    "\n",
    "# Read as space-separated values\n",
    "df = pd.read_csv(file_Moa, delim_whitespace=True, header=None)\n",
    "\n",
    "#retrieve variables\n",
    "\n",
    "R = df.iloc[:, 22].to_numpy()  # Nettradiationn in column 23\n",
    "#G= df.iloc[:, 17:23 ] # GROUND HEAT FLUX AT EACH HEGHT in column 18-22 (22 INCLUDED)\n",
    "T_g= df.iloc[:,17:23 ].to_numpy()  # GROUND temperature \n",
    "p=df.iloc[:, 16].to_numpy()  # air pressure\n",
    "theta= df.iloc[:, 10:16].to_numpy()  # Potential temperature at different heights\n",
    "\n",
    "#Constants\n",
    "rho =  1.225 # kg/m³ - density of air at sea level (is it always the same?)\n",
    "c_p= 1005 # J/(kg·K) specific heat of air at sea level\n",
    "gamma= 0.066 # kPa °C - psycometric constant γ=cp⋅P/ (ε⋅λ) \n",
    "r_l = 100 #s m^-1 stomatal resistance of single leaf (well watered condition)\n",
    "LAI= 4 # Mais crop 60 days after sowing (140 is harvest)\n",
    "LAI_active= 0.5 * LAI\n",
    "r_s = r_l/LAI_active # \n",
    "\n"
   ]
  },
  {
   "cell_type": "code",
   "execution_count": 38,
   "id": "614cf206",
   "metadata": {},
   "outputs": [],
   "source": [
    "# help functions\n",
    "\n",
    "def pottemp_to_temp(theta):\n",
    "    T=theta * 1**0.286\n",
    "    return T\n",
    "\n",
    "\n",
    "# we calculate difference e_s-e_a\n",
    "def vapour_pressure_deficit(T): \n",
    "    e_s= 6.112 * np.exp(17.63 * T / (243.12 +T)) #Tetens equation\n",
    "    T_min=np.min(T)\n",
    "    e_a= 6.112 * np.exp(17.63 * T_min / (243.12 +T_min))       #e_s(T_min)\n",
    "    return e_s-e_a\n",
    "\n",
    "# slope of the saturation curve\n",
    "def gradient_e_s (e_s,T): \n",
    "    delta=e_s * 17.63 * T / (243.12 + T)**2\n",
    "    return delta\n",
    "\n",
    "\n",
    "    "
   ]
  },
  {
   "cell_type": "code",
   "execution_count": 39,
   "id": "437d7d8b",
   "metadata": {},
   "outputs": [],
   "source": [
    "# Temperature at level z_1\n",
    "T_1 = pottemp_to_temp(theta[:, 0])\n",
    "e_s= 6.112 * np.exp(17.63 * T_1 / (243.12 +T_1)) #Tetens equation\n",
    "e_sa= vapour_pressure_deficit(T_1) # use temperature at the lowest level to find water vapor deficit\n",
    "delta= gradient_e_s(e_s, T_1)\n",
    "\n",
    "\n",
    "\n"
   ]
  },
  {
   "cell_type": "code",
   "execution_count": null,
   "id": "ac38d03f",
   "metadata": {},
   "outputs": [],
   "source": [
    "G= "
   ]
  },
  {
   "cell_type": "code",
   "execution_count": null,
   "id": "fff7fbd0",
   "metadata": {},
   "outputs": [
    {
     "ename": "NameError",
     "evalue": "name 'delta' is not defined",
     "output_type": "error",
     "traceback": [
      "\u001b[0;31m---------------------------------------------------------------------------\u001b[0m",
      "\u001b[0;31mNameError\u001b[0m                                 Traceback (most recent call last)",
      "Cell \u001b[0;32mIn[3], line 3\u001b[0m\n\u001b[1;32m      1\u001b[0m \u001b[38;5;66;03m# Penman eq\u001b[39;00m\n\u001b[0;32m----> 3\u001b[0m ET\u001b[38;5;241m=\u001b[39m delta \u001b[38;5;241m*\u001b[39m (R\u001b[38;5;241m-\u001b[39mG) \u001b[38;5;241m+\u001b[39m rho \u001b[38;5;241m*\u001b[39m c_p \u001b[38;5;241m*\u001b[39m (e_s\u001b[38;5;241m-\u001b[39m e_a) \u001b[38;5;241m/\u001b[39m ( delta \u001b[38;5;241m+\u001b[39m gamma )\n",
      "\u001b[0;31mNameError\u001b[0m: name 'delta' is not defined"
     ]
    }
   ],
   "source": [
    "# Penman eq\n",
    "\n",
    "ET= delta * (R-G) + rho * c_p * (e_s- e_a) / ( delta + gamma * (1 + r_s/ r_a) )\n"
   ]
  }
 ],
 "metadata": {
  "kernelspec": {
   "display_name": "base",
   "language": "python",
   "name": "python3"
  },
  "language_info": {
   "codemirror_mode": {
    "name": "ipython",
    "version": 3
   },
   "file_extension": ".py",
   "mimetype": "text/x-python",
   "name": "python",
   "nbconvert_exporter": "python",
   "pygments_lexer": "ipython3",
   "version": "3.11.8"
  }
 },
 "nbformat": 4,
 "nbformat_minor": 5
}
