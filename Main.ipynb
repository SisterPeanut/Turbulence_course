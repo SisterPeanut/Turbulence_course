{
 "cells": [
  {
   "cell_type": "code",
   "execution_count": null,
   "id": "93d838b1",
   "metadata": {},
   "outputs": [],
   "source": [
    "#The main file for case 2\n",
    "\n",
    "import numpy as np\n",
    "import pandas as pd\n",
    "import matplotlib.pyplot as plt\n",
    "from scipy.optimize import curve_fit\n",
    "\n",
    "# Path to your file\n",
    "file_Moa = \"/Users/moasjoberg/Documents/Turbulence_cource/Turbulence_course/FALL2_2.TXT\"\n",
    "\n",
    "# Read as space-separated values\n",
    "df = pd.read_csv(file_Moa, delim_whitespace=True, header=None)\n",
    "\n",
    "#retrieve constants\n",
    "\n",
    "R = df.iloc[:, 22] # Nettradiationn in column 23\n",
    "G= df.iloc[:, 17:23 ] # GROUND HEAT FLUX AT EACH HEGHT in column 18-22 (22 INCLUDED)\n"
   ]
  },
  {
   "cell_type": "code",
   "execution_count": null,
   "id": "fff7fbd0",
   "metadata": {},
   "outputs": [],
   "source": [
    "# Penman eq\n",
    "\n",
    "evap="
   ]
  }
 ],
 "metadata": {
  "kernelspec": {
   "display_name": "base",
   "language": "python",
   "name": "python3"
  },
  "language_info": {
   "codemirror_mode": {
    "name": "ipython",
    "version": 3
   },
   "file_extension": ".py",
   "mimetype": "text/x-python",
   "name": "python",
   "nbconvert_exporter": "python",
   "pygments_lexer": "ipython3",
   "version": "3.11.8"
  }
 },
 "nbformat": 4,
 "nbformat_minor": 5
}
