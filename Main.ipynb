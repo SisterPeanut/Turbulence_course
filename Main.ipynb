{
 "cells": [
  {
   "cell_type": "code",
   "execution_count": null,
   "id": "93d838b1",
   "metadata": {},
   "outputs": [],
   "source": [
    "#The main file for case 2\n",
    "\n"
   ]
  }
 ],
 "metadata": {
  "language_info": {
   "name": "python"
  }
 },
 "nbformat": 4,
 "nbformat_minor": 5
}
